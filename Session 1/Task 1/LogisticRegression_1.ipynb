{
 "cells": [
  {
   "cell_type": "code",
   "execution_count": 3,
   "id": "f1cae72f",
   "metadata": {},
   "outputs": [],
   "source": [
    "from sklearn.metrics import accuracy_score\n",
    "import numpy as np\n",
    "import pandas as pd\n",
    "import scipy.io\n",
    "from sklearn.linear_model import LogisticRegression"
   ]
  },
  {
   "cell_type": "code",
   "execution_count": 4,
   "id": "fdadef5c",
   "metadata": {},
   "outputs": [],
   "source": [
    "train = scipy.io.loadmat(r\"train.mat\")\n",
    "test = scipy.io.loadmat(r\"test.mat\")\n",
    "val = scipy.io.loadmat(r\"val.mat\")"
   ]
  },
  {
   "cell_type": "code",
   "execution_count": 5,
   "id": "787ab538",
   "metadata": {},
   "outputs": [],
   "source": [
    "x_train = train['features']\n",
    "y_train = train['label'].flatten() \n",
    "\n",
    "x_val = val['features']\n",
    "y_val = val['label'].flatten()\n",
    "\n",
    "x_test = test['features']\n",
    "y_test = test['label'].flatten()\n"
   ]
  },
  {
   "cell_type": "code",
   "execution_count": 9,
   "id": "0c87bf6b",
   "metadata": {},
   "outputs": [],
   "source": [
    "clf = LogisticRegression(max_iter=5000, random_state=43)\n",
    "clf = clf.fit(x_train, y_train)"
   ]
  },
  {
   "cell_type": "markdown",
   "id": "fb7390e1",
   "metadata": {},
   "source": [
    "Problem Faced: Using a small number in max iteration an error occurred>>> \n",
    "ConvergenceWarning: lbfgs failed to converge (status=1): STOP: TOTAL NO. of ITERATIONS REACHED LIMIT.\n",
    "\n",
    "Found out it's a problem that is solved either by inc the max_iter or changing the solver (trying to make the solver converges)\n"
   ]
  },
  {
   "cell_type": "markdown",
   "id": "c886d885",
   "metadata": {},
   "source": [
    "Validation"
   ]
  },
  {
   "cell_type": "code",
   "execution_count": 10,
   "id": "de55f831",
   "metadata": {},
   "outputs": [
    {
     "name": "stdout",
     "output_type": "stream",
     "text": [
      "Validation accuracy: 0.9722222222222222\n"
     ]
    }
   ],
   "source": [
    "y_pred = clf.predict(x_val)\n",
    "print(\"Validation accuracy:\", accuracy_score(y_val, y_pred))"
   ]
  },
  {
   "cell_type": "markdown",
   "id": "520e3bb4",
   "metadata": {},
   "source": [
    "Testing"
   ]
  },
  {
   "cell_type": "code",
   "execution_count": 11,
   "id": "81efe5c1",
   "metadata": {},
   "outputs": [
    {
     "name": "stdout",
     "output_type": "stream",
     "text": [
      "Test accuracy: 0.9694444444444444\n"
     ]
    }
   ],
   "source": [
    "y_pred = clf.predict(x_test)\n",
    "print(\"Test accuracy:\", accuracy_score(y_test, y_pred))"
   ]
  },
  {
   "cell_type": "markdown",
   "id": "4863f5a3",
   "metadata": {},
   "source": [
    "Testing accuracy: 0.9694\n",
    "Required accuracy: 0.95\n",
    "\n",
    "Logistic Regression model provides the required accuracy"
   ]
  },
  {
   "cell_type": "code",
   "execution_count": null,
   "id": "83d6c4c7",
   "metadata": {},
   "outputs": [],
   "source": []
  }
 ],
 "metadata": {
  "kernelspec": {
   "display_name": "Python 3 (ipykernel)",
   "language": "python",
   "name": "python3"
  },
  "language_info": {
   "codemirror_mode": {
    "name": "ipython",
    "version": 3
   },
   "file_extension": ".py",
   "mimetype": "text/x-python",
   "name": "python",
   "nbconvert_exporter": "python",
   "pygments_lexer": "ipython3",
   "version": "3.10.6"
  }
 },
 "nbformat": 4,
 "nbformat_minor": 5
}
