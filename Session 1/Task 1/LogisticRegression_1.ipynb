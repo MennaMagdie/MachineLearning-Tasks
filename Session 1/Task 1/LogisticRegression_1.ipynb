{
 "cells": [
  {
   "cell_type": "code",
   "execution_count": 3,
   "id": "30bdb3fc",
   "metadata": {},
   "outputs": [],
   "source": [
    "from sklearn.metrics import accuracy_score\n",
    "import numpy as np\n",
    "import pandas as pd\n",
    "import scipy.io\n",
    "from sklearn.linear_model import LogisticRegression"
   ]
  },
  {
   "cell_type": "code",
   "execution_count": 4,
   "id": "58dde501",
   "metadata": {},
   "outputs": [],
   "source": [
    "train = scipy.io.loadmat(r\"train.mat\")\n",
    "test = scipy.io.loadmat(r\"test.mat\")\n",
    "val = scipy.io.loadmat(r\"val.mat\")"
   ]
  },
  {
   "cell_type": "code",
   "execution_count": 5,
   "id": "79ef0ba5",
   "metadata": {},
   "outputs": [],
   "source": [
    "x_train = train['features']\n",
    "y_train = train['label'].flatten() \n",
    "\n",
    "x_val = val['features']\n",
    "y_val = val['label'].flatten()\n",
    "\n",
    "x_test = test['features']\n",
    "y_test = test['label'].flatten()\n"
   ]
  },
  {
   "cell_type": "code",
   "execution_count": 9,
   "id": "6dc9114b",
   "metadata": {},
   "outputs": [],
   "source": [
    "clf = LogisticRegression(max_iter=5000, random_state=43)\n",
    "clf = clf.fit(x_train, y_train)"
   ]
  },
  {
   "cell_type": "markdown",
   "id": "803e0ad4",
   "metadata": {},
   "source": [
    "Problem Faced: Using a small number in max iteration an error occurred>>> \n",
    "ConvergenceWarning: lbfgs failed to converge (status=1): STOP: TOTAL NO. of ITERATIONS REACHED LIMIT.\n",
    "\n",
    "Found out it's a problem that is solved either by inc the max_iter or changing the solver (trying to make the solver converges)\n"
   ]
  },
  {
   "cell_type": "markdown",
   "id": "139c82bf",
   "metadata": {},
   "source": [
    "Validation"
   ]
  },
  {
   "cell_type": "code",
   "execution_count": 10,
   "id": "968f2103",
   "metadata": {},
   "outputs": [
    {
     "name": "stdout",
     "output_type": "stream",
     "text": [
      "Validation accuracy: 0.9722222222222222\n"
     ]
    }
   ],
   "source": [
    "y_pred = clf.predict(x_val)\n",
    "print(\"Validation accuracy:\", accuracy_score(y_val, y_pred))"
   ]
  },
  {
   "cell_type": "markdown",
   "id": "bcc6ce3a",
   "metadata": {},
   "source": [
    "Testing"
   ]
  },
  {
   "cell_type": "code",
   "execution_count": 11,
   "id": "fbb6694e",
   "metadata": {},
   "outputs": [
    {
     "name": "stdout",
     "output_type": "stream",
     "text": [
      "Test accuracy: 0.9694444444444444\n"
     ]
    }
   ],
   "source": [
    "y_pred = clf.predict(x_test)\n",
    "print(\"Test accuracy:\", accuracy_score(y_test, y_pred))"
   ]
  },
  {
   "cell_type": "markdown",
   "id": "cf0a76c5",
   "metadata": {},
   "source": [
    "Testing accuracy: 0.9994\n",
    "Required accuracy: 0.95\n",
    "\n",
    "Logistic Regression model provides the required accuracy"
   ]
  },
  {
   "cell_type": "code",
   "execution_count": null,
   "id": "b9d88d84",
   "metadata": {},
   "outputs": [],
   "source": []
  }
 ],
 "metadata": {
  "kernelspec": {
   "display_name": "Python 3 (ipykernel)",
   "language": "python",
   "name": "python3"
  },
  "language_info": {
   "codemirror_mode": {
    "name": "ipython",
    "version": 3
   },
   "file_extension": ".py",
   "mimetype": "text/x-python",
   "name": "python",
   "nbconvert_exporter": "python",
   "pygments_lexer": "ipython3",
   "version": "3.10.6"
  }
 },
 "nbformat": 4,
 "nbformat_minor": 5
}
