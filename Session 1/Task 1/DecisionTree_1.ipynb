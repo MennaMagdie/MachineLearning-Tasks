{
 "cells": [
  {
   "cell_type": "markdown",
   "id": "9c1842f0",
   "metadata": {},
   "source": [
    "1. Importing libraries"
   ]
  },
  {
   "cell_type": "code",
   "execution_count": 2,
   "id": "b5fac018",
   "metadata": {},
   "outputs": [],
   "source": [
    "from sklearn.metrics import accuracy_score\n",
    "from sklearn import tree\n",
    "import pandas as pd\n",
    "import numpy as np \n",
    "import scipy.io"
   ]
  },
  {
   "cell_type": "markdown",
   "id": "6bb8c7f4",
   "metadata": {},
   "source": [
    "2. Loading data using loadmat function since it's a mat file"
   ]
  },
  {
   "cell_type": "code",
   "execution_count": 3,
   "id": "43f514c1",
   "metadata": {},
   "outputs": [],
   "source": [
    "train = scipy.io.loadmat(r\"train.mat\")\n",
    "test = scipy.io.loadmat(r\"test.mat\")\n",
    "val = scipy.io.loadmat(r\"val.mat\")"
   ]
  },
  {
   "cell_type": "markdown",
   "id": "04a4f647",
   "metadata": {},
   "source": [
    "3. Splitting data into features and label"
   ]
  },
  {
   "cell_type": "code",
   "execution_count": 4,
   "id": "4d339906",
   "metadata": {},
   "outputs": [],
   "source": [
    "x_train = train['features']\n",
    "y_train = train['label'].flatten() \n",
    "\n",
    "x_val = val['features']\n",
    "y_val = val['label'].flatten()\n",
    "\n",
    "x_test = test['features']\n",
    "y_test = test['label'].flatten()\n",
    "\n",
    "#print(\"train set\",x_train.shape,y_train.shape)\n",
    "#print(\"val set\",x_val.shape,y_val.shape)\n",
    "#print(\"test set\",x_test.shape,y_test.shape)"
   ]
  },
  {
   "cell_type": "markdown",
   "id": "002ec6f5",
   "metadata": {},
   "source": [
    "Problem faced: unhashable type: 'slice' , as I understood, this error occurred as I wanted to split features and label using indexing/slicing/etc.. but since it's a dict, it can't be sliced. Tried to convert mat files into csv files but failed."
   ]
  },
  {
   "cell_type": "markdown",
   "id": "81d48b02",
   "metadata": {},
   "source": [
    "4. Building Machine Learning Model"
   ]
  },
  {
   "cell_type": "code",
   "execution_count": 5,
   "id": "22a1582b",
   "metadata": {},
   "outputs": [],
   "source": [
    "clf = tree.DecisionTreeClassifier(max_depth=15,random_state=24)\n",
    "clf = clf.fit(x_train, y_train)"
   ]
  },
  {
   "cell_type": "markdown",
   "id": "8de16c91",
   "metadata": {},
   "source": [
    "Hyperparameter: 15 is chosen since I tried both higher numbers -with no increase in accuracy- and lower numebrs -with a decrease in accuracy-"
   ]
  },
  {
   "cell_type": "markdown",
   "id": "5824266a",
   "metadata": {},
   "source": [
    "5. Validation"
   ]
  },
  {
   "cell_type": "code",
   "execution_count": 6,
   "id": "fe5bafde",
   "metadata": {},
   "outputs": [
    {
     "name": "stdout",
     "output_type": "stream",
     "text": [
      "validation accuarcy: 0.8055555555555556\n"
     ]
    }
   ],
   "source": [
    "y_pred = clf.predict(x_val)\n",
    "print(\"validation accuarcy:\",accuracy_score(y_val, y_pred))"
   ]
  },
  {
   "cell_type": "markdown",
   "id": "1f9f0720",
   "metadata": {},
   "source": [
    "6. Testing"
   ]
  },
  {
   "cell_type": "code",
   "execution_count": 7,
   "id": "08cd5242",
   "metadata": {},
   "outputs": [
    {
     "name": "stdout",
     "output_type": "stream",
     "text": [
      "testing accuarcy: 0.8444444444444444\n"
     ]
    }
   ],
   "source": [
    "y_pred = clf.predict(x_test)\n",
    "print(\"testing accuarcy:\",accuracy_score(y_test, y_pred))"
   ]
  },
  {
   "cell_type": "markdown",
   "id": "fed594d7",
   "metadata": {},
   "source": [
    "Testing accuracy: 0.8444\n",
    "Required accuracy: 0.95\n",
    "\n",
    "Decision Tree won't give the required accuracy"
   ]
  }
 ],
 "metadata": {
  "kernelspec": {
   "display_name": "Python 3 (ipykernel)",
   "language": "python",
   "name": "python3"
  },
  "language_info": {
   "codemirror_mode": {
    "name": "ipython",
    "version": 3
   },
   "file_extension": ".py",
   "mimetype": "text/x-python",
   "name": "python",
   "nbconvert_exporter": "python",
   "pygments_lexer": "ipython3",
   "version": "3.10.6"
  }
 },
 "nbformat": 4,
 "nbformat_minor": 5
}
