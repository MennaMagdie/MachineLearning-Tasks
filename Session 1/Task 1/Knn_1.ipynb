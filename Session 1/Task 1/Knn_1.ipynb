{
 "cells": [
  {
   "cell_type": "code",
   "execution_count": 1,
   "id": "012905af",
   "metadata": {},
   "outputs": [],
   "source": [
    "from sklearn.neighbors import KNeighborsClassifier\n",
    "from sklearn.metrics import accuracy_score\n",
    "import numpy as np\n",
    "import pandas as pd\n",
    "import scipy.io"
   ]
  },
  {
   "cell_type": "code",
   "execution_count": 2,
   "id": "ef0e00fd",
   "metadata": {},
   "outputs": [],
   "source": [
    "train = scipy.io.loadmat(r\"train.mat\")\n",
    "test = scipy.io.loadmat(r\"test.mat\")\n",
    "val = scipy.io.loadmat(r\"val.mat\")"
   ]
  },
  {
   "cell_type": "code",
   "execution_count": 3,
   "id": "38f56e1c",
   "metadata": {},
   "outputs": [],
   "source": [
    "x_train = train['features']\n",
    "y_train = train[\"label\"].flatten() \n",
    "\n",
    "x_val = val['features']\n",
    "y_val = val[\"label\"].flatten()\n",
    "\n",
    "x_test = test['features']\n",
    "y_test = test[\"label\"].flatten()"
   ]
  },
  {
   "cell_type": "code",
   "execution_count": 4,
   "id": "c5aefb3d",
   "metadata": {},
   "outputs": [],
   "source": [
    "clf = KNeighborsClassifier(n_neighbors=1)\n",
    "clf = clf.fit(x_train, y_train)"
   ]
  },
  {
   "cell_type": "markdown",
   "id": "63a9be2f",
   "metadata": {},
   "source": [
    "Hyperparameters: chose 1, since it gave the highest accuracy"
   ]
  },
  {
   "cell_type": "markdown",
   "id": "06893cfc",
   "metadata": {},
   "source": [
    "Validation"
   ]
  },
  {
   "cell_type": "code",
   "execution_count": 5,
   "id": "821241f6",
   "metadata": {},
   "outputs": [
    {
     "name": "stdout",
     "output_type": "stream",
     "text": [
      "Validation accuracy: 1.0\n"
     ]
    }
   ],
   "source": [
    "y_pred = clf.predict(x_val)\n",
    "print(\"Validation accuracy:\", accuracy_score(y_val, y_pred))"
   ]
  },
  {
   "cell_type": "markdown",
   "id": "33ad649c",
   "metadata": {},
   "source": [
    "Testing"
   ]
  },
  {
   "cell_type": "code",
   "execution_count": 6,
   "id": "96edd431",
   "metadata": {},
   "outputs": [
    {
     "name": "stdout",
     "output_type": "stream",
     "text": [
      "Test accuracy: 0.9916666666666667\n"
     ]
    }
   ],
   "source": [
    "y_pred = clf.predict(x_test)\n",
    "print(\"Test accuracy:\", accuracy_score(y_test, y_pred))"
   ]
  },
  {
   "cell_type": "markdown",
   "id": "15002abf",
   "metadata": {},
   "source": [
    "Testing accuracy: 0.9916\n",
    "Required accuracy: 0.95\n",
    "    \n",
    "K-nn model provides the required accuracy"
   ]
  },
  {
   "cell_type": "code",
   "execution_count": null,
   "id": "a733fd34",
   "metadata": {},
   "outputs": [],
   "source": []
  }
 ],
 "metadata": {
  "kernelspec": {
   "display_name": "Python 3 (ipykernel)",
   "language": "python",
   "name": "python3"
  },
  "language_info": {
   "codemirror_mode": {
    "name": "ipython",
    "version": 3
   },
   "file_extension": ".py",
   "mimetype": "text/x-python",
   "name": "python",
   "nbconvert_exporter": "python",
   "pygments_lexer": "ipython3",
   "version": "3.10.6"
  }
 },
 "nbformat": 4,
 "nbformat_minor": 5
}
